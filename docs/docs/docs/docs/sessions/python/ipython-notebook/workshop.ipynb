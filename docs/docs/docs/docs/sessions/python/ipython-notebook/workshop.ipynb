{
 "cells": [
  {
   "cell_type": "code",
   "execution_count": 8,
   "metadata": {
    "collapsed": false
   },
   "outputs": [
    {
     "name": "stdout",
     "output_type": "stream",
     "text": [
      "Hello world!\n"
     ]
    }
   ],
   "source": [
    "# %load hello.py\n",
    "# Your first program\n",
    "\n",
    "print('Hello world!')"
   ]
  },
  {
   "cell_type": "code",
   "execution_count": 9,
   "metadata": {
    "collapsed": false
   },
   "outputs": [
    {
     "name": "stdout",
     "output_type": "stream",
     "text": [
      "4\n",
      "145\n",
      "20\n",
      "12\n",
      "1\n",
      "100\n"
     ]
    }
   ],
   "source": [
    "# %load math.py\n",
    "# Basic math\n",
    "\n",
    "print(2 + 2) # Add\n",
    "print(200 - 55) # Subtract\n",
    "print(5 * 4) # Multiply\n",
    "print(144 / 12) # Divide\n",
    "print(11 % 2) # Mod (gives remainder)\n",
    "print(10 ** 2) # Exponent\n",
    "\n",
    "# <- These hash marks denote comments. Comments (lines beginning with a hash) aren't used when you run your program, and are useful for providing descriptions\n"
   ]
  },
  {
   "cell_type": "code",
   "execution_count": null,
   "metadata": {
    "collapsed": false
   },
   "outputs": [],
   "source": [
    "# %load multi-line-string.py\n",
    "# Print a string on multiple lines\n",
    "\n",
    "print('''Mary had a little lamb,\n",
    "Its fleece was white as snow,\n",
    "And everywhere that Mary went,\n",
    "The lamb was sure to go.''')\n",
    "\n",
    "# You can use these characters to start and end strings:\n",
    "# Single quote: '\n",
    "# Double quote: \"\n",
    "# Triple quote: ''' (can be used for multiline string)\n",
    "\n",
    "# Don't mix and match! Always have the same mark at the start and end of your string\n"
   ]
  },
  {
   "cell_type": "code",
   "execution_count": 11,
   "metadata": {
    "collapsed": false
   },
   "outputs": [
    {
     "name": "stdout",
     "output_type": "stream",
     "text": [
      "<type 'str'>\n",
      "<type 'int'>\n",
      "<type 'float'>\n",
      "2\n",
      "2.2\n"
     ]
    }
   ],
   "source": [
    "# %load types.py\n",
    "# Types\n",
    "\n",
    "# A string is a set of characters, which can be letters, spaces, numbers, and special characters.\n",
    "\n",
    "print(type(\"I'm a string! I'm the first type you learned.\"))\n",
    "\n",
    "# Integers are numbers without decimal places\n",
    "\n",
    "print(type(5))\n",
    "\n",
    "# Floating point numbers (floats) are numbers with decimal places\n",
    "\n",
    "print(type(10.0))\n",
    "\n",
    "# If you want more precise answers, use floats\n",
    "\n",
    "print(11 / 5)\n",
    "print(11.0 / 5.0)\n"
   ]
  },
  {
   "cell_type": "code",
   "execution_count": 12,
   "metadata": {
    "collapsed": false
   },
   "outputs": [
    {
     "name": "stdout",
     "output_type": "stream",
     "text": [
      "5.75\n"
     ]
    }
   ],
   "source": [
    "# %load variables.py\n",
    "# Variables\n",
    "\n",
    "lemonade_price = 0.25\n",
    "glasses_sold = 23\n",
    "\n",
    "profit = lemonade_price * glasses_sold\n",
    "\n",
    "print(profit)\n",
    "\n",
    "# Variable names can have letters, numbers, and certain special characters, such as underscore (_)\n",
    "\n",
    "# Make your variable names as descriptive as possible\n",
    "\n",
    "# The equals sign (=) assigns a variable name to a string, integer, float, or other data type\n"
   ]
  },
  {
   "cell_type": "code",
   "execution_count": 13,
   "metadata": {
    "collapsed": false,
    "scrolled": true
   },
   "outputs": [
    {
     "name": "stdout",
     "output_type": "stream",
     "text": [
      "30\n",
      "I like Python!\n",
      "Banana\n"
     ]
    }
   ],
   "source": [
    "# %load len-and-strings.py\n",
    "# Len()\n",
    "\n",
    "# The len() function can tell you how many characters is in a string. Later, we'll see it can return the number of items in a list.\n",
    "\n",
    "print(len('How many characters long am I?'))\n",
    "\n",
    "# You can use some math operations on strings\n",
    "\n",
    "print(\"I like \" + \"Python!\")\n",
    "\n",
    "print(\"Ba\" + \"na\" * 2)\n"
   ]
  },
  {
   "cell_type": "code",
   "execution_count": null,
   "metadata": {
    "collapsed": true
   },
   "outputs": [],
   "source": [
    "# Be careful running this one! It might not stop...\n",
    "\n",
    "while 1 == 1:\n",
    "    print('Oh no!')\n",
    "    \n",
    "# As long as 1 is equal to 1 (which will always be true), the program will continue to print \"Oh no!\""
   ]
  },
  {
   "cell_type": "code",
   "execution_count": null,
   "metadata": {
    "collapsed": false
   },
   "outputs": [],
   "source": [
    "# %load if.py\n",
    "# Conditionals\n",
    "\n",
    "number = 9\n",
    "\n",
    "if number % 2 == 0:\n",
    "    print(\"The number is even\")\n",
    "else:\n",
    "    print(\"The number is odd\")\n",
    "\n",
    "# Be more specific in your answer with string formatters\n",
    "    \n",
    "if number % 2 == 0:\n",
    "    print(\"%s is even\" % number)\n",
    "else:\n",
    "    print(\"%s is odd\" % number)\n",
    "\n",
    "# %s is a placeholder that is replaced by the variable after the %\n"
   ]
  },
  {
   "cell_type": "code",
   "execution_count": null,
   "metadata": {
    "collapsed": true
   },
   "outputs": [],
   "source": [
    "# %load functions.py\n",
    "# Defining functions\n",
    "\n",
    "# Make the even-odd program above into a function\n",
    "\n",
    "def check_if_even(number):\n",
    "    if number % 2 == 0:\n",
    "        print(\"%s is even\" % number)\n",
    "    else:\n",
    "        print(\"%s is odd\" % number)\n",
    "\n",
    "check_if_even(9)\n",
    "check_if_even(34)\n",
    "check_if_even(101)\n",
    "check_if_even(1000000)\n"
   ]
  },
  {
   "cell_type": "code",
   "execution_count": null,
   "metadata": {
    "collapsed": true
   },
   "outputs": [],
   "source": [
    "# %load input.py\n",
    "# Take input from user\n",
    "\n",
    "name = raw_input(\"What's your name? \")\n",
    "\n",
    "if len(name) > 10:\n",
    "    print(\"Your name is too long!\")\n",
    "else:\n",
    "    print(\"Nice name!\")\n"
   ]
  },
  {
   "cell_type": "code",
   "execution_count": null,
   "metadata": {
    "collapsed": false
   },
   "outputs": [],
   "source": [
    "# %load weather.py\n",
    "# Let's pull together some of what we've learned\n",
    "\n",
    "\n",
    "\n",
    "while 1:\n",
    "    weather = raw_input(\"What's the weather today? \")\n",
    "    if weather == \"cloudy\":\n",
    "        print(\"You don't need a hat\")\n",
    "    elif weather == \"sunny\":\n",
    "        print(\"Wear shades\")\n",
    "    elif weather == \"rainy\":\n",
    "        print(\"Bring an umbrella\")\n",
    "    elif weather == \"snowy\":\n",
    "        print(\"Wear your wolly muffler\")\n",
    "    else:\n",
    "        print(\"I don't know what you should do today...\")\n"
   ]
  },
  {
   "cell_type": "code",
   "execution_count": null,
   "metadata": {
    "collapsed": true
   },
   "outputs": [],
   "source": [
    "# %load lists.py\n",
    "# Lists\n",
    "\n",
    "# Start with some lists\n",
    "\n",
    "groceries = ['ham','eggs','cheese']\n",
    "flowers = ['rose','violet','daisy']\n",
    "primes = [2,3,5,7,11,13]\n",
    "\n",
    "print(flowers)\n",
    "\n",
    "# Use a for loop to iterate over lists and do something to each item\n",
    "\n",
    "for flower in flowers:\n",
    "    print(flower)\n",
    "\n",
    "for item in groceries:\n",
    "    print(item)\n"
   ]
  },
  {
   "cell_type": "code",
   "execution_count": 3,
   "metadata": {
    "collapsed": false
   },
   "outputs": [
    {
     "name": "stdout",
     "output_type": "stream",
     "text": [
      "eggs\n",
      "[5, 7]\n",
      "['violet', 'daisy']\n",
      "[2, 3, 5]\n",
      "['rose', 'violet', 'daisy', 'buttercup']\n",
      "['eggs', 'cheese']\n"
     ]
    }
   ],
   "source": [
    "# %load list-sections.py\n",
    "# Find objects in lists\n",
    "\n",
    "groceries = ['ham','eggs','cheese']\n",
    "flowers = ['rose','violet','daisy']\n",
    "primes = [2,3,5,7,11,13]\n",
    "\n",
    "print(groceries[1])\n",
    "\n",
    "print(primes[2:4])\n",
    "\n",
    "print(flowers[1:])\n",
    "\n",
    "print(primes[:3])\n",
    "\n",
    "# Add and remove items in lists\n",
    "\n",
    "flowers.append('buttercup')\n",
    "print(flowers)\n",
    "\n",
    "groceries.remove('ham')\n",
    "print(groceries)\n"
   ]
  },
  {
   "cell_type": "code",
   "execution_count": null,
   "metadata": {
    "collapsed": true
   },
   "outputs": [],
   "source": [
    "# %load dicts.py\n",
    "# Dictionaries\n",
    "\n",
    "# Let's make a phone book\n",
    "\n",
    "phone_book = {'Alice':199933355555,\n",
    "              'Bob':14446669999,\n",
    "              'Rilke':18884321111,\n",
    "              'Goethe':12223334444}\n",
    "\n",
    "print(phone_book['Alice'])\n",
    "\n",
    "def look_up_number(name):\n",
    "    print(phone_book[name])\n",
    "\n",
    "look_up_number('Rilke')\n",
    "look_up_number('Goethe')\n"
   ]
  },
  {
   "cell_type": "code",
   "execution_count": null,
   "metadata": {
    "collapsed": true
   },
   "outputs": [],
   "source": [
    "# %load import_library.py\n",
    "# Importing libraries\n",
    "\n",
    "import random\n",
    "\n",
    "print(random.randint(1,100))\n",
    "\n",
    "def roll_dice(number_of_dice):\n",
    "    for x in range(0,number_of_dice):\n",
    "        print(random.randint(1,6))\n",
    "\n",
    "roll_dice(5)\n"
   ]
  },
  {
   "cell_type": "code",
   "execution_count": null,
   "metadata": {
    "collapsed": true
   },
   "outputs": [],
   "source": []
  }
 ],
 "metadata": {
  "kernelspec": {
   "display_name": "Python 3",
   "language": "python",
   "name": "python3"
  },
  "language_info": {
   "codemirror_mode": {
    "name": "ipython",
    "version": 2
   },
   "file_extension": ".py",
   "mimetype": "text/x-python",
   "name": "python",
   "nbconvert_exporter": "python",
   "pygments_lexer": "ipython2",
   "version": "2.7.6"
  }
 },
 "nbformat": 4,
 "nbformat_minor": 0
}
